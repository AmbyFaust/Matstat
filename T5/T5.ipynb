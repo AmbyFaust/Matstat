{
 "cells": [
  {
   "cell_type": "code",
   "execution_count": 191,
   "id": "e0765af2",
   "metadata": {},
   "outputs": [
    {
     "name": "stdout",
     "output_type": "stream",
     "text": [
      "Выборка: \n",
      " [1.07091934 1.10311052 1.04107257 1.39911972 1.01957015 1.03049395\n",
      " 1.05002798 1.07696183 1.18627457 1.06352499 1.21353907 1.05699787\n",
      " 1.00386727 1.02090548 1.02243072 1.06688498 1.1017037  1.02556936\n",
      " 1.01983505 1.04685644 1.20227346 1.00433158 1.16260436 1.00808901\n",
      " 1.03292159 1.03074072 1.02579342 1.00159926 1.00076824 1.04154374\n",
      " 1.02386459 1.08706976 1.03892305 1.00842233 1.02524705 1.18453153\n",
      " 1.02908331 1.01128312 1.01223502 1.04835308 1.24073981 1.0107169\n",
      " 1.03615288 1.17715768 1.00437229 1.18208921 1.00536228 1.02132947\n",
      " 1.37698094 1.06030744 1.16174456 1.17434733 1.10601393 1.02238772\n",
      " 1.01326949 1.04834372 1.11848857 1.01338288 1.01888965 1.0412613\n",
      " 1.01243927 1.01366878 1.14038467 1.17841918 1.04595009 1.15023614\n",
      " 1.06653616 1.014736   1.11151696 1.10376938 1.04768997 1.06408364\n",
      " 1.00623868 1.09346945 1.08010039 1.06884296 1.08373463 1.01243036\n",
      " 1.01270567 1.00113302 1.15931397 1.13158256 1.20419248 1.07423918\n",
      " 1.03590629 1.04897724 1.0610584  1.04102088 1.11752563 1.14237177\n",
      " 1.01705097 1.00612185 1.15726801 1.02502822 1.02821259 1.03677716\n",
      " 1.01802513 1.023092   1.09944374 1.0968257 ]\n"
     ]
    }
   ],
   "source": [
    "import numpy as np\n",
    "import math\n",
    "import random\n",
    "import matplotlib.pyplot as plt\n",
    "from scipy import integrate\n",
    "\n",
    "\n",
    "n = 100\n",
    "teta = 15\n",
    "\n",
    "def generate_x(F):\n",
    "    return pow(1-F, 1/(1-teta))\n",
    "\n",
    "\n",
    "sample = []\n",
    "p = 1\n",
    "for i in range(n):\n",
    "    sample.append(generate_x(random.random()))\n",
    "    p *= sample[-1]\n",
    "sample = np.array(sample)\n",
    "print('Выборка: \\n', sample)"
   ]
  },
  {
   "cell_type": "markdown",
   "id": "1f91483e",
   "metadata": {},
   "source": [
    "# Доверительный интервал для медианы"
   ]
  },
  {
   "cell_type": "code",
   "execution_count": 192,
   "id": "5145a5f8",
   "metadata": {},
   "outputs": [
    {
     "name": "stdout",
     "output_type": "stream",
     "text": [
      "(1.0405600326316997; 1.0609532446747392)\n"
     ]
    }
   ],
   "source": [
    "x_ass = pow(2, 1/(teta-1))\n",
    "delta_border = 1.96*x_ass*math.log(2)/(math.sqrt(n)*(teta-1))\n",
    "print('(' + str(x_ass - delta_border) + '; ' + str(x_ass + delta_border) + ')')"
   ]
  },
  {
   "cell_type": "markdown",
   "id": "ac7418e2",
   "metadata": {},
   "source": [
    "# Байесовский доверительный интервал"
   ]
  },
  {
   "cell_type": "code",
   "execution_count": 193,
   "id": "5a5287bb",
   "metadata": {},
   "outputs": [
    {
     "name": "stdout",
     "output_type": "stream",
     "text": [
      "(11.565999999999029; 16.61999999999733)\n"
     ]
    }
   ],
   "source": [
    "def func(x):\n",
    "    return pow(math.e, 1-x)*pow(x-1, n)/pow(p, x)\n",
    "\n",
    "res, err = integrate.quad(func, 1, 30)\n",
    "\n",
    "c = 1/res\n",
    "\n",
    "def func_corr(x):\n",
    "    return pow(math.e, 1-x)*pow(x-1, n)/pow(p, x)*c\n",
    "\n",
    "res = 0\n",
    "f1 = 1\n",
    "while res < 0.025:\n",
    "    f1 += 0.001\n",
    "    res, err = integrate.quad(func_corr, 1, f1)\n",
    "\n",
    "f2 = f1\n",
    "while res < 0.975:\n",
    "    f2 += 0.001\n",
    "    res, err = integrate.quad(func_corr, 1, f2)\n",
    "\n",
    "print('(' + str(f1) + '; ' + str(f2) + ')')"
   ]
  },
  {
   "cell_type": "markdown",
   "id": "9e03ce26",
   "metadata": {},
   "source": [
    "# Асимптотический доверительный интервал"
   ]
  },
  {
   "cell_type": "code",
   "execution_count": 194,
   "id": "95aada4e",
   "metadata": {},
   "outputs": [
    {
     "name": "stdout",
     "output_type": "stream",
     "text": [
      "(12.846754595963969; 18.622784199966304)\n"
     ]
    }
   ],
   "source": [
    "def teta_ass_func(sample):\n",
    "    teta = 0\n",
    "    for el in sample:\n",
    "        teta += math.log(el)\n",
    "    teta = pow(teta, -1)*n\n",
    "    teta += 1\n",
    "    return teta\n",
    "\n",
    "teta_ass = teta_ass_func(sample)\n",
    "\n",
    "delta = 1.96*(teta_ass - 1)/math.sqrt(n)\n",
    "\n",
    "print('(' + str(teta_ass - delta) + '; ' + str(teta_ass + delta) + ')')"
   ]
  },
  {
   "cell_type": "markdown",
   "id": "28e1cf13",
   "metadata": {},
   "source": [
    "# Непараметрический bootstrap (доверитеьный интервал)"
   ]
  },
  {
   "cell_type": "code",
   "execution_count": 198,
   "id": "1c7ec2b1",
   "metadata": {},
   "outputs": [
    {
     "name": "stdout",
     "output_type": "stream",
     "text": [
      "(12.507601362116791; 18.22469984278135)\n"
     ]
    }
   ],
   "source": [
    "N = 10000\n",
    "\n",
    "bt_neparam = []\n",
    "for i in range(N):\n",
    "    tmp_sample = [random.choice(sample) for j in range(n)]\n",
    "    delta = teta_ass_func(tmp_sample) - teta_ass\n",
    "    bt_neparam.append(delta)\n",
    "    \n",
    "bt_neparam.sort()\n",
    "\n",
    "a = int((1 - 0.95)*N/2)\n",
    "b = int((1 + 0.95)*N/2)\n",
    "\n",
    "print('(' + str(teta_ass - bt_neparam[b]) + '; ' + str(teta_ass - bt_neparam[a]) +  ')')\n",
    "    "
   ]
  },
  {
   "cell_type": "markdown",
   "id": "fbce2939",
   "metadata": {},
   "source": [
    "# Параметрический bootstrap"
   ]
  },
  {
   "cell_type": "code",
   "execution_count": 197,
   "id": "77ccc1be",
   "metadata": {},
   "outputs": [
    {
     "name": "stdout",
     "output_type": "stream",
     "text": [
      "250 9750\n",
      "(13.305558171443831; 18.82024097249787)\n"
     ]
    }
   ],
   "source": [
    "bt_param = []\n",
    "N = 10000\n",
    "for i in range(N):\n",
    "    tmp_sample = []\n",
    "    for k in range(n):\n",
    "        tmp_sample.append(generate_x(random.random()))\n",
    "    delta = teta_ass_func(tmp_sample) - teta_ass\n",
    "    bt_param.append(delta)\n",
    "    \n",
    "bt_param.sort()\n",
    "\n",
    "a = int((1 - 0.95)*N/2)\n",
    "b = int((1 + 0.95)*N/2)\n",
    "\n",
    "print('(' + str(teta_ass - bt_param[b]) + '; ' + str(teta_ass - bt_param[a]) +  ')')"
   ]
  },
  {
   "cell_type": "markdown",
   "id": "50401d4f",
   "metadata": {},
   "source": [
    "# Сравнение доверительных интервалов"
   ]
  },
  {
   "cell_type": "code",
   "execution_count": 235,
   "id": "3e203a9e",
   "metadata": {},
   "outputs": [
    {
     "data": {
      "image/png": "[encoded data removed]",
      "text/plain": [
       "<Figure size 432x288 with 1 Axes>"
      ]
     },
     "metadata": {
      "needs_background": "light"
     },
     "output_type": "display_data"
    }
   ],
   "source": [
    "plt.hlines(y=5, xmin=f1, xmax=f2)\n",
    "plt.text(f1+1, 5, \"Байесовский\", fontsize=15)\n",
    "\n",
    "plt.hlines(y=4, xmin=teta_ass - delta, xmax=teta_ass + delta)\n",
    "plt.text(teta_ass - delta+1, 4, \"Асимптотический\", fontsize=15)\n",
    "\n",
    "plt.hlines(y=3, xmin=teta_ass - bt_neparam[b], xmax=teta_ass - bt_neparam[a])\n",
    "plt.text(teta_ass - bt_neparam[b]+1, 3, \"Непараметрический bt\", fontsize=15)\n",
    "\n",
    "plt.hlines(y=2, xmin=teta_ass - bt_param[b], xmax=teta_ass - bt_param[a])\n",
    "plt.text(teta_ass - bt_param[b]+1, 2, \"Параметрический bt\", fontsize=15)\n",
    "\n",
    "\n",
    "plt.grid()\n",
    "plt.show()"
   ]
  },
  {
   "cell_type": "code",
   "execution_count": null,
   "id": "80110347",
   "metadata": {},
   "outputs": [],
   "source": []
  }
 ],
 "metadata": {
  "kernelspec": {
   "display_name": "Python 3",
   "language": "python",
   "name": "python3"
  },
  "language_info": {
   "codemirror_mode": {
    "name": "ipython",
    "version": 3
   },
   "file_extension": ".py",
   "mimetype": "text/x-python",
   "name": "python",
   "nbconvert_exporter": "python",
   "pygments_lexer": "ipython3",
   "version": "3.8.8"
  }
 },
 "nbformat": 4,
 "nbformat_minor": 5
}
