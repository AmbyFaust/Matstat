{
 "cells": [
  {
   "cell_type": "code",
   "execution_count": 144,
   "id": "d1fc6ae4",
   "metadata": {},
   "outputs": [
    {
     "name": "stdout",
     "output_type": "stream",
     "text": [
      "Выборка: \n",
      " [0.36017087 1.03335894 0.74541896 0.20682078 1.08075247 5.44560042\n",
      " 3.87421164 0.60922824 0.2690794  1.30690298 2.59202269 0.27893798\n",
      " 1.02313492 1.37582499 0.43253829 2.49780679 0.98248496 0.99758018\n",
      " 1.47268091 2.10921466 0.01203977 2.27171702 4.77795682 2.34322285\n",
      " 0.16254212]\n"
     ]
    }
   ],
   "source": [
    "import numpy as np\n",
    "import math\n",
    "import random\n",
    "import matplotlib.pyplot as plt\n",
    "\n",
    "\n",
    "\n",
    "def generate_x(F):\n",
    "    return -math.log(1-F)\n",
    "\n",
    "n = 25\n",
    "sample = []\n",
    "for i in range(n):\n",
    "    sample.append(generate_x(random.random()))\n",
    "sample = np.array(sample)\n",
    "print('Выборка: \\n', sample)"
   ]
  },
  {
   "cell_type": "code",
   "execution_count": 145,
   "id": "2aedcb06",
   "metadata": {},
   "outputs": [
    {
     "name": "stdout",
     "output_type": "stream",
     "text": [
      "Вариационный ряд: \n",
      " [0.01203977 0.16254212 0.20682078 0.2690794  0.27893798 0.36017087\n",
      " 0.43253829 0.60922824 0.74541896 0.98248496 0.99758018 1.02313492\n",
      " 1.03335894 1.08075247 1.30690298 1.37582499 1.47268091 2.10921466\n",
      " 2.27171702 2.34322285 2.49780679 2.59202269 3.87421164 4.77795682\n",
      " 5.44560042]\n"
     ]
    }
   ],
   "source": [
    "sample.sort()\n",
    "print('Вариационный ряд: \\n', sample)"
   ]
  },
  {
   "cell_type": "code",
   "execution_count": 163,
   "id": "cf39c8d9",
   "metadata": {},
   "outputs": [
    {
     "name": "stdout",
     "output_type": "stream",
     "text": [
      "Размах:  5.433560651964924\n",
      "\n",
      "Медиана:  2.716780325982462\n",
      "\n",
      "Мода: все элементы\n",
      "\n",
      "Коэффициент асимметрии:  0.7108861248230585\n"
     ]
    }
   ],
   "source": [
    "def a_i(sample, i):\n",
    "    res = 0\n",
    "    for el in sample:\n",
    "        res += el**i\n",
    "    return res/len(sample)\n",
    "    \n",
    "    \n",
    "def m_i(sample, a1, i):\n",
    "    res = 0\n",
    "    for el in sample:\n",
    "        res += (el - a1)**2\n",
    "    res /= len(sample)\n",
    "    return res\n",
    "\n",
    "\n",
    "print('Размах: ', sample[-1] - sample[0])\n",
    "print('\\nМедиана: ', (sample[-1] - sample[0])/2)\n",
    "\n",
    "tmp = {}\n",
    "max = 1\n",
    "for el in sample:\n",
    "    try:\n",
    "        tmp[el] += 1\n",
    "        if tmp[el] > max:\n",
    "            max = tmp[el]\n",
    "    except:\n",
    "        tmp[el] = 1\n",
    "if max == 1:\n",
    "    print('\\nМода: все элементы')\n",
    "else:\n",
    "    print('\\nМода: ', end='')\n",
    "    for key in b:\n",
    "        if tmp[key] == max:\n",
    "            print(key, end='')\n",
    "            \n",
    "            \n",
    "a1 = a_i(sample, 1)\n",
    "m3 = m_i(sample, a1, 3)\n",
    "m2 = m_i(sample, a1, 2)\n",
    "r = m3/pow(m2, 1.5)\n",
    "\n",
    "print('\\nКоэффициент асимметрии: ', r)"
   ]
  },
  {
   "cell_type": "code",
   "execution_count": 211,
   "id": "15cb9324",
   "metadata": {},
   "outputs": [
    {
     "name": "stdout",
     "output_type": "stream",
     "text": [
      "\n",
      "Эмпирическая функция распределения\n"
     ]
    },
    {
     "data": {
      "image/png": "[encoded data removed]",
      "text/plain": [
       "<Figure size 432x288 with 1 Axes>"
      ]
     },
     "metadata": {
      "needs_background": "light"
     },
     "output_type": "display_data"
    }
   ],
   "source": [
    "F = [1-pow(math.e, -x) for x in sample]\n",
    "print('\\nЭмпирическая функция распределения')\n",
    "\n",
    "fig, ax = plt.subplots()\n",
    "\n",
    "for i in range(n-1):\n",
    "    ax.hlines(F[i], sample[i], sample[i+1])\n",
    "\n",
    "plt.show()\n"
   ]
  },
  {
   "cell_type": "code",
   "execution_count": 165,
   "id": "c98420f7",
   "metadata": {},
   "outputs": [
    {
     "name": "stdout",
     "output_type": "stream",
     "text": [
      "\n",
      "Гистограмма\n"
     ]
    },
    {
     "data": {
      "image/png": "[encoded data removed]",
      "text/plain": [
       "<Figure size 432x288 with 1 Axes>"
      ]
     },
     "metadata": {
      "needs_background": "light"
     },
     "output_type": "display_data"
    }
   ],
   "source": [
    "k = 1 + round(math.log2(n))\n",
    "\n",
    "print('\\nГистограмма')\n",
    "plt.hist(sample, bins=k)\n",
    "plt.show()\n"
   ]
  },
  {
   "cell_type": "code",
   "execution_count": 169,
   "id": "b1edfc90",
   "metadata": {},
   "outputs": [
    {
     "name": "stdout",
     "output_type": "stream",
     "text": [
      "\n",
      "Boxplot\n"
     ]
    },
    {
     "data": {
      "image/png": "[encoded data removed]",
      "text/plain": [
       "<Figure size 432x288 with 1 Axes>"
      ]
     },
     "metadata": {
      "needs_background": "light"
     },
     "output_type": "display_data"
    }
   ],
   "source": [
    "print('\\nBoxplot')\n",
    "plt.boxplot(sample, vert=0)\n",
    "plt.show()"
   ]
  },
  {
   "cell_type": "code",
   "execution_count": 167,
   "id": "9a3d39ba",
   "metadata": {},
   "outputs": [
    {
     "name": "stdout",
     "output_type": "stream",
     "text": [
      "\n",
      "Ядерная оценка плотности распределения\n"
     ]
    },
    {
     "data": {
      "image/png": "[encoded data removed]",
      "text/plain": [
       "<Figure size 432x288 with 1 Axes>"
      ]
     },
     "metadata": {
      "needs_background": "light"
     },
     "output_type": "display_data"
    }
   ],
   "source": [
    "def nuclear(z, xi):\n",
    "    y = (z-xi)/2.344\n",
    "    if -1 < y and y < 1:\n",
    "        return 0.75*(1-y*y)\n",
    "    return 0\n",
    "\n",
    "def nuclear_assessment(z):\n",
    "    res = 0\n",
    "    for i in range(n):\n",
    "        res += nuclear(z, sample[i])\n",
    "    return res/(n*2.344)\n",
    "\n",
    "\n",
    "z, pz = [], []\n",
    "i = sample[0]\n",
    "while i < sample[-1]:\n",
    "    pz.append(nuclear_assessment(i))\n",
    "    z.append(i)\n",
    "    i += 0.001\n",
    "\n",
    "plt.plot(z, pz)\n",
    "print('\\nЯдерная оценка плотности распределения')\n",
    "plt.show()\n",
    "\n"
   ]
  },
  {
   "cell_type": "code",
   "execution_count": 215,
   "id": "1b9d7014",
   "metadata": {},
   "outputs": [
    {
     "name": "stdout",
     "output_type": "stream",
     "text": [
      "\n",
      "Bootstrap и Плотность распределения среднего арифметического элементов выборки\n"
     ]
    },
    {
     "data": {
      "image/png": "[encoded data removed]",
      "text/plain": [
       "<Figure size 432x288 with 1 Axes>"
      ]
     },
     "metadata": {
      "needs_background": "light"
     },
     "output_type": "display_data"
    }
   ],
   "source": [
    "def arithmetic_mean_density(x, a1, a2):\n",
    "    D = a2 - a1**2\n",
    "    res = pow(math.e, -n*((x-a1)**2)/(2*D))\n",
    "    return res*math.sqrt(n/(2*math.pi*D))\n",
    "\n",
    "\n",
    "def coefficient_asymmetry(sample):\n",
    "    a1 = a_i(sample, 1)\n",
    "    m3 = m_i(sample, a1, 3)\n",
    "    m2 = m_i(sample, a1, 2)\n",
    "    return m3/pow(m2, 1.5)\n",
    "\n",
    "\n",
    "x, y = [], []\n",
    "i = 0\n",
    "a2 = a_i(sample, 2)\n",
    "while i < 5:\n",
    "    y.append(arithmetic_mean_density(i, a1, a2))\n",
    "    x.append(i)\n",
    "    i += 0.01\n",
    "    \n",
    "    \n",
    "    \n",
    "bt_arithmetic = []\n",
    "bt_asymmetry = []\n",
    "N = 10000\n",
    "for i in range(N):\n",
    "    tmp_sample = [random.choice(sample) for i in range(n)]\n",
    "    bt_arithmetic.append(sum(tmp_sample)/n)\n",
    "    bt_asymmetry.append(coefficient_asymmetry(tmp_sample))\n",
    "    \n",
    "\n",
    "k = 1 + round(math.log2(N))\n",
    "\n",
    "print('\\nBootstrap и Плотность распределения среднего арифметического элементов выборки')\n",
    "counts, bins, bars = plt.hist(bt_arithmetic, density = True, bins=k)\n",
    "\n",
    "\n",
    "max = 0\n",
    "for i in range(len(counts)):\n",
    "    if counts[i] > max:\n",
    "        max = counts[i]\n",
    "\n",
    "plt.plot(x, y)\n",
    "plt.xlim([0.75, 2.5])\n",
    "plt.show()    "
   ]
  },
  {
   "cell_type": "code",
   "execution_count": 217,
   "id": "efc186ef",
   "metadata": {},
   "outputs": [
    {
     "data": {
      "image/png": "[encoded data removed]",
      "text/plain": [
       "<Figure size 432x288 with 1 Axes>"
      ]
     },
     "metadata": {
      "needs_background": "light"
     },
     "output_type": "display_data"
    }
   ],
   "source": [
    "plt.hist(bt_asymmetry, bins=k, density = True)\n",
    "plt.show()"
   ]
  },
  {
   "cell_type": "code",
   "execution_count": null,
   "id": "74677ebf",
   "metadata": {},
   "outputs": [],
   "source": []
  }
 ],
 "metadata": {
  "kernelspec": {
   "display_name": "Python 3",
   "language": "python",
   "name": "python3"
  },
  "language_info": {
   "codemirror_mode": {
    "name": "ipython",
    "version": 3
   },
   "file_extension": ".py",
   "mimetype": "text/x-python",
   "name": "python",
   "nbconvert_exporter": "python",
   "pygments_lexer": "ipython3",
   "version": "3.8.8"
  }
 },
 "nbformat": 4,
 "nbformat_minor": 5
}
