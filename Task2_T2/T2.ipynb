{
 "cells": [
  {
   "cell_type": "code",
   "execution_count": 2,
   "id": "be969327",
   "metadata": {},
   "outputs": [],
   "source": [
    "import numpy as np\n",
    "import math\n",
    "import scipy.stats\n",
    "import random\n",
    "\n",
    "\n",
    "sample = [[83, 85], \n",
    "          [84, 85, 85, 86, 87], \n",
    "          [86, 87, 87, 87, 88, 88, 88, 88, 88, 89, 90],\n",
    "          [89, 90, 90, 91],\n",
    "          [90, 92]]"
   ]
  },
  {
   "cell_type": "markdown",
   "id": "b950d36c",
   "metadata": {},
   "source": [
    "# a) Определить влияние возраста на содержание иммуногобулина в крови с помощью регрессионного анализа"
   ]
  },
  {
   "cell_type": "code",
   "execution_count": 9,
   "id": "a022abe8",
   "metadata": {},
   "outputs": [
    {
     "name": "stdout",
     "output_type": "stream",
     "text": [
      "Коэффициенты: \n",
      "\n",
      "b0 = 84.0\n",
      "b1 = 85.4\n",
      "b2 = 87.81818181818183\n",
      "b3 = 90.0\n",
      "b4 = 91.0\n"
     ]
    }
   ],
   "source": [
    "def TSS(y):\n",
    "    y_average = sum(y)/len(y)\n",
    "    res = 0\n",
    "    for i in range(len(y)):\n",
    "        res += (y[i] - y_average)**2\n",
    "    return res\n",
    "\n",
    "def RSS(e):\n",
    "    return np.matmul(e.transpose(), e)\n",
    "\n",
    "def R_2(tss, rss):\n",
    "    return (tss - rss)/tss\n",
    "\n",
    "def calc_koefs(ksi, y):\n",
    "    ksi_T = ksi.transpose()\n",
    "    F = np.matmul(ksi_T, ksi)\n",
    "    F_inv = np.linalg.inv(F)\n",
    "    koefs = np.matmul(F_inv, np.matmul(ksi_T, y))\n",
    "    return koefs\n",
    "\n",
    "def calc_e(ksi, y, koefs):\n",
    "    return y - np.matmul(ksi, koefs)\n",
    "\n",
    "\n",
    "\n",
    "\n",
    "ksi = []\n",
    "y = []\n",
    "for i in range(len(sample)):\n",
    "    for j in range(len(sample[i])):\n",
    "        line = [0]*len(sample)\n",
    "        line[i] = 1\n",
    "        ksi.append(line)\n",
    "        y.append(sample[i][j])\n",
    "n = len(ksi)\n",
    "ksi = np.array(ksi)\n",
    "y = np.array(y)\n",
    "\n",
    "koefs = calc_koefs(ksi, y)\n",
    "\n",
    "print('Коэффициенты: \\n')\n",
    "for i in range(len(koefs)):\n",
    "    print(f'b{i} = {koefs[i]}')"
   ]
  },
  {
   "cell_type": "code",
   "execution_count": 14,
   "id": "edb9d6ab",
   "metadata": {},
   "outputs": [
    {
     "name": "stdout",
     "output_type": "stream",
     "text": [
      "b0 значим\n",
      "b1 значим\n",
      "b2 значим\n",
      "b3 значим\n",
      "b4 значим\n"
     ]
    }
   ],
   "source": [
    "alpha = 0.05\n",
    "\n",
    "def calc_delta(ksi, koefs, i, rss):\n",
    "    ksi_T = ksi.transpose()\n",
    "    F = np.matmul(ksi_T, ksi)\n",
    "    F_inv = np.linalg.inv(F)\n",
    "    p = ksi.shape[1]\n",
    "    return koefs[i]*math.sqrt(n-p)/math.sqrt(rss*F_inv[i][i])\n",
    "\n",
    "def integrate_student(a, b, N):\n",
    "    def student(x):\n",
    "        return math.gamma((N+1)/2)/(math.sqrt(math.pi*N)*math.gamma(N/2)*(1+x**2/N)**((N+1)/2))\n",
    "    return scipy.integrate.quad(student, a, b)[0]\n",
    "    \n",
    "e = calc_e(ksi, y, koefs)\n",
    "rss = RSS(e)\n",
    "    \n",
    "deltas = [calc_delta(ksi, koefs, i, rss) for i in range(len(sample))]\n",
    "\n",
    "p_values = [2*integrate_student(abs(deltas[i]), math.inf, n) for i in range(len(deltas))]\n",
    "for i in range(len(sample)):\n",
    "    if p_values[i] < alpha:\n",
    "        print(f'b{i} значим')\n",
    "    else:\n",
    "        print(f'b{i} НЕ значим')"
   ]
  },
  {
   "cell_type": "code",
   "execution_count": 15,
   "id": "538f228c",
   "metadata": {},
   "outputs": [
    {
     "name": "stdout",
     "output_type": "stream",
     "text": [
      "Коэффициент детерминации: R^2 = 0.8091004084734492\n",
      "p-value = 1.2778798793544494e-06\n",
      "Коэффициент детерминации значим\n"
     ]
    }
   ],
   "source": [
    "def integrate_fisher(a, b, d1, d2):\n",
    "    def func(x):\n",
    "        return x**(d1/2-1)*(1-x)**(d2/2-1)\n",
    "    Beta = scipy.integrate.quad(func, 0, 1)[0]\n",
    "    def fisher(x):\n",
    "        return pow(d1/d2, d1/2) * pow(x, (d1/2 - 1)) * pow((1 + d1*x/d2), -(d1+d2)/2) / Beta \n",
    "    return scipy.integrate.quad(fisher, a, b)[0]\n",
    "\n",
    "\n",
    "tss = TSS(y)\n",
    "r_2 = R_2(tss, rss)\n",
    "print('Коэффициент детерминации: R^2 =', r_2)\n",
    "\n",
    "p = ksi.shape[1]\n",
    "delta_r_2 = r_2*(n-p)/((1-r_2)*(p-1))\n",
    "\n",
    "p_value_r_2 = integrate_fisher(delta_r_2, math.inf, p-1, n-p)\n",
    "print('p-value =', p_value_r_2)\n",
    "if p_value_r_2 < alpha:\n",
    "    print('Коэффициент детерминации значим')\n",
    "else:\n",
    "    print('Коэффициент детерминации НЕ значим')"
   ]
  },
  {
   "cell_type": "markdown",
   "id": "a4d25ee3",
   "metadata": {},
   "source": [
    "# b) Провести попарное сравнение средних в рамках регрессионной модели"
   ]
  },
  {
   "cell_type": "code",
   "execution_count": 20,
   "id": "59a1e86d",
   "metadata": {},
   "outputs": [
    {
     "name": "stdout",
     "output_type": "stream",
     "text": [
      "H0: b0=b1 | H1: !H0     ->     p-value = 0.14340811626585315 => Не можем отвергнуть H0\n",
      "H0: b0=b2 | H1: !H0     ->     p-value = 0.0002287219868382402 => Отвергаем H0\n",
      "H0: b0=b3 | H1: !H0     ->     p-value = 4.586693462926683e-06 => Отвергаем H0\n",
      "H0: b0=b4 | H1: !H0     ->     p-value = 4.003248689410462e-06 => Отвергаем H0\n",
      "H0: b1=b2 | H1: !H0     ->     p-value = 0.0006244964048529733 => Отвергаем H0\n",
      "H0: b1=b3 | H1: !H0     ->     p-value = 5.249414227098847e-06 => Отвергаем H0\n",
      "H0: b1=b4 | H1: !H0     ->     p-value = 7.186665224756283e-06 => Отвергаем H0\n",
      "H0: b2=b3 | H1: !H0     ->     p-value = 0.0029472837797510382 => Отвергаем H0\n",
      "H0: b2=b4 | H1: !H0     ->     p-value = 0.0012792424725151822 => Отвергаем H0\n",
      "H0: b3=b4 | H1: !H0     ->     p-value = 0.3054360645262756 => Не можем отвергнуть H0\n"
     ]
    }
   ],
   "source": [
    "ksi_T = ksi.transpose()\n",
    "F = np.matmul(ksi_T, ksi)\n",
    "F_inv = np.linalg.inv(F)\n",
    "    \n",
    "\n",
    "for i in range(p):\n",
    "    for j in range(i+1, p):\n",
    "        delta_comp = (koefs[i]-koefs[j])*math.sqrt(n-p)/math.sqrt(rss*(F_inv[i][i]+F_inv[j][j]))\n",
    "        p_value = 2*integrate_student(abs(delta_comp), math.inf, n-p)\n",
    "        print(f'H0: b{i}=b{j} | H1: !H0     ->     p-value = {p_value} =>', end=' ')\n",
    "        if p_value < alpha:\n",
    "            print('Отвергаем H0')\n",
    "        else:\n",
    "            print('Не можем отвергнуть H0')\n",
    "        "
   ]
  },
  {
   "cell_type": "code",
   "execution_count": null,
   "id": "efbb481a",
   "metadata": {},
   "outputs": [],
   "source": []
  }
 ],
 "metadata": {
  "kernelspec": {
   "display_name": "Python 3",
   "language": "python",
   "name": "python3"
  },
  "language_info": {
   "codemirror_mode": {
    "name": "ipython",
    "version": 3
   },
   "file_extension": ".py",
   "mimetype": "text/x-python",
   "name": "python",
   "nbconvert_exporter": "python",
   "pygments_lexer": "ipython3",
   "version": "3.8.8"
  }
 },
 "nbformat": 4,
 "nbformat_minor": 5
}
