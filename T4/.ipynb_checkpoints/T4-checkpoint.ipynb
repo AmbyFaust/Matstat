{
 "cells": [
  {
   "cell_type": "code",
   "execution_count": 1,
   "id": "12887d54",
   "metadata": {},
   "outputs": [],
   "source": [
    "import numpy as np\n",
    "import math\n",
    "import random\n",
    "import matplotlib.pyplot as plt"
   ]
  },
  {
   "cell_type": "code",
   "execution_count": 21,
   "id": "9b509660",
   "metadata": {},
   "outputs": [
    {
     "name": "stdout",
     "output_type": "stream",
     "text": [
      "Выборка: \n",
      " [5.67000209 3.33734644 3.42155448 5.94480102 5.69659274 4.90351334\n",
      " 3.23238616 4.99472383 4.02111213 3.32989776 3.99301349 3.15876624\n",
      " 3.87329666 5.2287324  3.76326968 3.65991747 4.24494586 4.37467801\n",
      " 4.41779348 5.49561201 4.65420446 5.14506928 4.64032196 5.27987158\n",
      " 3.57229455 4.47377621 3.87122757 4.9312424  5.93552774 5.46754786\n",
      " 4.73787363 5.94925874 3.7212543  4.48585307 4.35747555 5.48516951\n",
      " 3.54407663 4.5302089  3.94006455 4.59861979 5.84052708 3.29624308\n",
      " 4.85618823 3.44851328 4.51804524 5.06345201 4.93495055 3.70771141\n",
      " 5.34285202 3.19260879 3.94002504 3.54872811 3.95985121 3.80966139\n",
      " 5.40205859 4.33775603 4.90930336 4.25411911 3.73016405 5.86409846\n",
      " 3.49347659 5.29334657 3.56583092 3.96436026 5.18545272 4.25719661\n",
      " 3.97275931 4.2164328  3.54382972 5.52683385 3.43613091 3.4620768\n",
      " 4.73497167 4.17105366 3.54236479 3.50560447 5.96750561 5.98817342\n",
      " 3.61635896 5.13301901 3.02209103 5.06576302 5.3936716  4.86627147\n",
      " 4.80528088 4.04911184 5.13412967 3.21754618 4.35717823 5.51489944\n",
      " 3.22974708 3.19651267 4.68141917 4.92150943 5.21267125 3.27700753\n",
      " 3.52075948 4.44818152 4.04366618 3.86177233]\n"
     ]
    }
   ],
   "source": [
    "teta = 3\n",
    "n = 100\n",
    "sample = []\n",
    "\n",
    "\n",
    "def generate_x(F):\n",
    "    return teta*(F+1)\n",
    "\n",
    "\n",
    "for i in range(n):\n",
    "    sample.append(generate_x(random.random()))\n",
    "sample = np.array(sample)\n",
    "print('Выборка: \\n', sample)"
   ]
  },
  {
   "cell_type": "markdown",
   "id": "354014cb",
   "metadata": {},
   "source": [
    "# Точный доверительный интервал"
   ]
  },
  {
   "cell_type": "code",
   "execution_count": 22,
   "id": "074ddaa3",
   "metadata": {},
   "outputs": [
    {
     "name": "stdout",
     "output_type": "stream",
     "text": [
      "(2.9944657283659257; 3.0493045730578987)\n"
     ]
    }
   ],
   "source": [
    "max_x = max(sample)\n",
    "print('(' + str(max_x/(pow(0.975, 1/n) + 1)) + '; ' + str(max_x/(pow(0.025, 1/n) + 1)) + ')')"
   ]
  },
  {
   "cell_type": "markdown",
   "id": "98dd7e2e",
   "metadata": {},
   "source": [
    "# Асимптотический  доверительный интервал"
   ]
  },
  {
   "cell_type": "code",
   "execution_count": 25,
   "id": "53e5ecba",
   "metadata": {},
   "outputs": [
    {
     "name": "stdout",
     "output_type": "stream",
     "text": [
      "(2.827800574406698; 3.044675682235395)\n"
     ]
    }
   ],
   "source": [
    "def a_i(sample, i):\n",
    "    res = 0\n",
    "    for el in sample:\n",
    "        res += el**i\n",
    "    return res/len(sample)\n",
    "\n",
    "a_1 = a_i(sample, 1)\n",
    "a_2 = a_i(sample, 2)\n",
    "\n",
    "teta_ass = (2/3)*a_1\n",
    "\n",
    "abs_limit = 1.96*(2/3)*math.sqrt(a_2-a_1**2)/math.sqrt(n)\n",
    "\n",
    "print('(' + str(-abs_limit + teta_ass) + '; ' + str(abs_limit + teta_ass) + ')')\n"
   ]
  },
  {
   "cell_type": "markdown",
   "id": "f865d0a0",
   "metadata": {},
   "source": [
    "# Bootstrap"
   ]
  },
  {
   "cell_type": "code",
   "execution_count": 27,
   "id": "301bc9d7",
   "metadata": {},
   "outputs": [
    {
     "name": "stdout",
     "output_type": "stream",
     "text": [
      "(2.827439569968143; 3.0404582311299637)\n"
     ]
    }
   ],
   "source": [
    "N = 10000\n",
    "\n",
    "bt_delta = []\n",
    "for i in range(N):\n",
    "    tmp_sample = [random.choice(sample) for j in range(n)]\n",
    "    delta = a_i(tmp_sample, 1)*(2/3) - teta_ass\n",
    "    bt_delta.append(delta)\n",
    "bt_delta.sort()\n",
    "a = int((1 - 0.95)*N/2)\n",
    "b = int((1 + 0.95)*N/2)\n",
    "\n",
    "print('(' + str(teta_ass - bt_delta[b]) + '; ' + str(teta_ass - bt_delta[a]) +  ')')\n"
   ]
  },
  {
   "cell_type": "code",
   "execution_count": null,
   "id": "173a8275",
   "metadata": {},
   "outputs": [],
   "source": []
  }
 ],
 "metadata": {
  "kernelspec": {
   "display_name": "Python 3",
   "language": "python",
   "name": "python3"
  },
  "language_info": {
   "codemirror_mode": {
    "name": "ipython",
    "version": 3
   },
   "file_extension": ".py",
   "mimetype": "text/x-python",
   "name": "python",
   "nbconvert_exporter": "python",
   "pygments_lexer": "ipython3",
   "version": "3.8.8"
  }
 },
 "nbformat": 4,
 "nbformat_minor": 5
}
