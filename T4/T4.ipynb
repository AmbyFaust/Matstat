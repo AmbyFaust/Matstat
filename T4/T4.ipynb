{
 "cells": [
  {
   "cell_type": "code",
   "execution_count": 1,
   "id": "57c853e9",
   "metadata": {},
   "outputs": [],
   "source": [
    "import numpy as np\n",
    "import math\n",
    "import random\n",
    "import matplotlib.pyplot as plt"
   ]
  },
  {
   "cell_type": "code",
   "execution_count": 28,
   "id": "e2e8d8de",
   "metadata": {},
   "outputs": [
    {
     "name": "stdout",
     "output_type": "stream",
     "text": [
      "Выборка: \n",
      " [39.99106498 39.33254369 22.70139428 29.87249388 23.54979591 28.14140118\n",
      " 29.83636469 39.51365518 22.55944515 31.98351368 26.40225196 32.41598961\n",
      " 23.29020926 34.93917565 38.82712406 25.5567934  33.80491039 22.372814\n",
      " 25.82693703 32.96776366 28.24579608 32.47821457 38.27385587 30.27356213\n",
      " 20.33759701 35.18267382 27.02298347 29.27777499 36.86037532 31.10848901\n",
      " 28.9228781  33.09351799 23.38194548 29.329814   38.75541388 37.0651388\n",
      " 29.50000512 24.13973112 26.14337492 29.96779757 20.54813554 20.54672526\n",
      " 35.82250586 35.88001194 38.32558867 37.59886734 37.62220302 23.24548015\n",
      " 34.28380636 34.21373401 37.59300129 22.91781016 25.97418275 25.34220429\n",
      " 20.59745864 24.69349988 36.77323943 30.80689654 23.99245365 36.77197249\n",
      " 29.6681021  21.72171486 23.94653493 33.77848857 28.11810296 32.15427282\n",
      " 35.47245626 37.12856475 24.62383002 27.4603943  32.38669741 25.95069667\n",
      " 20.12634961 26.46514332 22.51192392 31.28409013 34.58187599 20.65730874\n",
      " 38.00240758 29.64350321 38.38665096 24.60329738 28.56803937 33.91861947\n",
      " 23.884156   29.29123498 27.05042043 28.46910061 26.4258588  25.47625868\n",
      " 35.04821347 36.81620465 37.80637707 20.27789864 30.31581385 35.96641906\n",
      " 34.20976983 21.1430596  23.63832125 36.8904965 ]\n"
     ]
    }
   ],
   "source": [
    "teta = 20\n",
    "n = 100\n",
    "sample = []\n",
    "\n",
    "\n",
    "def generate_x(F):\n",
    "    return teta*(F+1)\n",
    "\n",
    "\n",
    "for i in range(n):\n",
    "    sample.append(generate_x(random.random()))\n",
    "sample = np.array(sample)\n",
    "print('Выборка: \\n', sample)"
   ]
  },
  {
   "cell_type": "markdown",
   "id": "7a449557",
   "metadata": {},
   "source": [
    "# Точный доверительный интервал"
   ]
  },
  {
   "cell_type": "code",
   "execution_count": 29,
   "id": "797cb2ad",
   "metadata": {},
   "outputs": [
    {
     "name": "stdout",
     "output_type": "stream",
     "text": [
      "(19.998063705553445; 20.364296218853063)\n"
     ]
    }
   ],
   "source": [
    "max_x = max(sample)\n",
    "print('(' + str(max_x/(pow(0.975, 1/n) + 1)) + '; ' + str(max_x/(pow(0.025, 1/n) + 1)) + ')')"
   ]
  },
  {
   "cell_type": "markdown",
   "id": "41378346",
   "metadata": {},
   "source": [
    "# Асимптотический  доверительный интервал"
   ]
  },
  {
   "cell_type": "code",
   "execution_count": 30,
   "id": "1ceaafec",
   "metadata": {},
   "outputs": [
    {
     "name": "stdout",
     "output_type": "stream",
     "text": [
      "(19.180032596411632; 20.695501095444232)\n"
     ]
    }
   ],
   "source": [
    "def a_i(sample, i):\n",
    "    res = 0\n",
    "    for el in sample:\n",
    "        res += el**i\n",
    "    return res/len(sample)\n",
    "\n",
    "a_1 = a_i(sample, 1)\n",
    "a_2 = a_i(sample, 2)\n",
    "\n",
    "teta_ass = (2/3)*a_1\n",
    "\n",
    "abs_limit = 1.96*(2/3)*math.sqrt(a_2-a_1**2)/math.sqrt(n)\n",
    "\n",
    "print('(' + str(-abs_limit + teta_ass) + '; ' + str(abs_limit + teta_ass) + ')')\n"
   ]
  },
  {
   "cell_type": "markdown",
   "id": "9cb762f5",
   "metadata": {},
   "source": [
    "# Bootstrap"
   ]
  },
  {
   "cell_type": "code",
   "execution_count": 31,
   "id": "eba48953",
   "metadata": {},
   "outputs": [
    {
     "name": "stdout",
     "output_type": "stream",
     "text": [
      "(19.19561172928278; 20.695126971907783)\n"
     ]
    }
   ],
   "source": [
    "N = 10000\n",
    "\n",
    "bt_delta = []\n",
    "for i in range(N):\n",
    "    tmp_sample = [random.choice(sample) for j in range(n)]\n",
    "    delta = a_i(tmp_sample, 1)*(2/3) - teta_ass\n",
    "    bt_delta.append(delta)\n",
    "bt_delta.sort()\n",
    "a = int((1 - 0.95)*N/2)\n",
    "b = int((1 + 0.95)*N/2)\n",
    "\n",
    "print('(' + str(teta_ass - bt_delta[b]) + '; ' + str(teta_ass - bt_delta[a]) +  ')')\n"
   ]
  },
  {
   "cell_type": "markdown",
   "id": "a4b9079a",
   "metadata": {},
   "source": [
    "Точный доверительный интервал самый лучший из трех, потом бутстраповский и в конце асимптотический\n"
   ]
  },
  {
   "cell_type": "code",
   "execution_count": null,
   "id": "e27f7025",
   "metadata": {},
   "outputs": [],
   "source": []
  }
 ],
 "metadata": {
  "kernelspec": {
   "display_name": "Python 3",
   "language": "python",
   "name": "python3"
  },
  "language_info": {
   "codemirror_mode": {
    "name": "ipython",
    "version": 3
   },
   "file_extension": ".py",
   "mimetype": "text/x-python",
   "name": "python",
   "nbconvert_exporter": "python",
   "pygments_lexer": "ipython3",
   "version": "3.8.8"
  }
 },
 "nbformat": 4,
 "nbformat_minor": 5
}
