{
 "cells": [
  {
   "cell_type": "code",
   "execution_count": 148,
   "id": "34e9df1a",
   "metadata": {},
   "outputs": [
    {
     "name": "stdout",
     "output_type": "stream",
     "text": [
      "Выборка:\n",
      "[[-0.06280446 -0.68057546  0.82655915  0.21755855  0.9552378   1.22720527]\n",
      " [-0.38555916 -0.55298734 -0.45712263  0.18334655  0.92821495 -1.17296106]\n",
      " [ 0.93627161 -0.55524752  0.73796815 -0.3155274   0.08227209  5.89152657]\n",
      " [-0.70583308  0.43413843  0.14451648  0.67871392 -0.20434569 -0.41970936]\n",
      " [-0.7492125  -0.66903537  0.14707233  0.83332876  0.86355642  0.0836582 ]\n",
      " [-0.86284308 -0.84783281  0.7592978  -0.37269207  0.8322605   0.64565853]\n",
      " [ 0.76863394  0.54135854 -0.85633052 -0.50630417 -0.457991    0.58326972]\n",
      " [ 0.03229074 -0.15535771 -0.95761825 -0.50792322 -0.33815071  1.27710976]\n",
      " [ 0.51760707 -0.7680835  -0.54540421 -0.58647775 -0.69985176  3.13481939]\n",
      " [-0.75441327  0.09645254  0.89743255  0.76376208  0.3666464   2.23676158]\n",
      " [-0.01245819  0.35091423  0.37302413  0.91182332 -0.95186607  0.6738121 ]\n",
      " [ 0.29009882 -0.23174165 -0.81840331 -0.66860919 -0.66477485  1.95138106]\n",
      " [ 0.50705406  0.12773019  0.87324491  0.65404491 -0.95542558  6.60381377]\n",
      " [ 0.81449223  0.95705384  0.15116158 -0.07537363 -0.62255201  0.11981853]\n",
      " [-0.44054529 -0.77860537  0.64460369 -0.32044466  0.45834661  0.82020187]\n",
      " [ 0.33189724 -0.80947547  0.92475111 -0.90622765 -0.48001738  3.5829059 ]\n",
      " [-0.70770286  0.01053063 -0.52282155 -0.79113959 -0.8991293  -0.91631749]\n",
      " [-0.59031954 -0.73310066 -0.30927539 -0.25790048 -0.85925442  1.20140497]\n",
      " [ 0.48789515 -0.04149688 -0.23958965 -0.51792609 -0.24119755  4.27019002]\n",
      " [ 0.90999037  0.03738231 -0.07993747  0.94363461  0.12333206  4.4982029 ]\n",
      " [ 0.13754231 -0.85865476  0.69613973  0.5249623   0.91659133  5.54833896]\n",
      " [-0.54810753  0.68964999 -0.56757009  0.86635181  0.98193905 -3.77420357]\n",
      " [ 0.12875747  0.96553094 -0.22119105  0.32855269  0.64378742  1.14681259]\n",
      " [-0.11143177 -0.83018176 -0.87734408  0.67355233 -0.18916966  4.93446208]\n",
      " [-0.66777526  0.32203494 -0.70957741 -0.53611786  0.3238294  -2.31558743]\n",
      " [-0.3929036  -0.7990448  -0.90164967 -0.96299915 -0.10819628 -1.59333742]\n",
      " [-0.79127997  0.71426749  0.4909205  -0.56310167  0.31809125 -2.18120154]\n",
      " [ 0.48757287 -0.0378955  -0.13570425  0.00672408  0.81332126  2.55326846]\n",
      " [-0.60193968 -0.57466703  0.14118114 -0.91411965  0.51442571  3.81270762]\n",
      " [ 0.17598891 -0.42113464  0.91838454 -0.45233413 -0.35703568  4.38326856]\n",
      " [-0.65057486  0.30826776  0.27300955 -0.50949438  0.55058907 -0.1133849 ]\n",
      " [-0.97991084 -0.24399175  0.89230838  0.69293508  0.2840513   0.90385067]\n",
      " [-0.3687949  -0.69782226  0.53163518 -0.3273047   0.77919679  0.42702335]\n",
      " [-0.23268647 -0.82101446  0.28384556 -0.98433097 -0.62347422 -0.75128904]\n",
      " [ 0.15811766  0.06678657  0.40324097  0.33106197 -0.15784077  2.73023176]\n",
      " [-0.82326949  0.51707403  0.1549914   0.46942697 -0.93632739 -0.63380488]\n",
      " [ 0.23450276  0.14633837 -0.17280246 -0.63091781 -0.88521529  2.64787151]\n",
      " [ 0.91145806 -0.38122632  0.81152429 -0.34441514 -0.42199082  3.9268538 ]\n",
      " [-0.14994964 -0.1349537  -0.39176821  0.90375177 -0.56311032  2.43493539]\n",
      " [-0.14643781  0.92863943 -0.46352699  0.23374296 -0.40568027  0.02297069]\n",
      " [ 0.26708703 -0.55282633 -0.66246776  0.79724339 -0.39411085  5.0040838 ]\n",
      " [ 0.81248224 -0.21665842  0.15867955  0.16933004  0.13612864  5.52270268]\n",
      " [-0.49233711  0.93720918  0.38184126 -0.63634479 -0.5727299  -2.61263723]\n",
      " [-0.46864378 -0.32914953 -0.34579757 -0.87838542  0.44720909  0.87894008]\n",
      " [-0.41905368 -0.42012097  0.20069317 -0.53917914  0.16797821  0.94702991]\n",
      " [-0.43056546  0.09287624  0.91684737 -0.99848783 -0.9988509   1.21132296]\n",
      " [ 0.04829817  0.08739761 -0.29115155 -0.04736871  0.87399734  0.43330533]\n",
      " [-0.70735847  0.91490928  0.78279124 -0.67820308  0.50754087 -1.57664191]\n",
      " [ 0.6475005  -0.14768148  0.72990334  0.86362488  0.62656179  6.56887621]\n",
      " [ 0.45321416  0.15950039  0.4991904   0.56257231  0.68019696  5.14261526]]\n"
     ]
    }
   ],
   "source": [
    "import numpy as np\n",
    "import math\n",
    "import scipy.stats\n",
    "import random\n",
    "\n",
    "n = 50\n",
    "\n",
    "def get_psi():\n",
    "    return 2*random.uniform(0, 1) - 1\n",
    "\n",
    "sample = []\n",
    "for i in range(n):\n",
    "    elem = [get_psi() for j in range(5)]\n",
    "    a = 2 + 3*elem[0] - 2*elem[1] + elem[2] + elem[3] - elem[4] \n",
    "    elem.append(scipy.stats.norm.rvs(loc=a, scale=1.5, size=1)[0])\n",
    "    sample.append(elem)\n",
    "\n",
    "print('Выборка:')\n",
    "print(np.array(sample))\n"
   ]
  },
  {
   "cell_type": "markdown",
   "id": "c8982def",
   "metadata": {},
   "source": [
    "# a) Проверить ксишки на мультиколлениарность"
   ]
  },
  {
   "cell_type": "code",
   "execution_count": 149,
   "id": "f457973d",
   "metadata": {},
   "outputs": [
    {
     "name": "stdout",
     "output_type": "stream",
     "text": [
      "При кси1=f(от остальных кси)    R^2 = 0.0651043728647124\n",
      "При кси2=f(от остальных кси)    R^2 = 0.05473363897740022\n",
      "При кси3=f(от остальных кси)    R^2 = 0.028109428110884502\n",
      "При кси4=f(от остальных кси)    R^2 = 0.09491866079327754\n",
      "При кси5=f(от остальных кси)    R^2 = 0.13139793306866482\n",
      "\n",
      " Ксишки не являются мультиколлениарными\n"
     ]
    }
   ],
   "source": [
    "def TSS(y):\n",
    "    y_average = sum(y)/len(y)\n",
    "    res = 0\n",
    "    for i in range(len(y)):\n",
    "        res += (y[i] - y_average)**2\n",
    "    return res\n",
    "\n",
    "def RSS(e):\n",
    "    return np.matmul(e.transpose(), e)\n",
    "\n",
    "def R_2(tss, rss):\n",
    "    return (tss - rss)/tss\n",
    "\n",
    "def calc_koefs(ksi, y):\n",
    "    ksi_T = ksi.transpose()\n",
    "    F = np.matmul(ksi_T, ksi)\n",
    "    F_inv = np.linalg.inv(F)\n",
    "    koefs = np.matmul(F_inv, np.matmul(ksi_T, y))\n",
    "    return koefs\n",
    "\n",
    "def calc_e(ksi, y, koefs):\n",
    "    return y - np.matmul(ksi, koefs)\n",
    "\n",
    "ksi_list = []\n",
    "y_list = []\n",
    "for i in range(5):\n",
    "    elem_ksi = []\n",
    "    elem_y = []\n",
    "    for j in range(n):\n",
    "        line = [1] + sample[j][0 : i] + sample[j][i+1 : 5]\n",
    "        elem_ksi.append(line)\n",
    "        elem_y.append(sample[j][i])\n",
    "    y_list.append(np.array(elem_y))\n",
    "    ksi_list.append(np.array(elem_ksi))\n",
    "    \n",
    "koefs_list = [calc_koefs(ksi_list[i], y_list[i]) for i in range(5)]\n",
    "e_list = [calc_e(ksi_list[i], y_list[i], koefs_list[i]) for i in range(5)]\n",
    "RSS_list = [RSS(e_list[i]) for i in range(5)]\n",
    "TSS_list = [TSS(y_list[i]) for i in range(5)]\n",
    "R_2_list = [R_2(TSS_list[i], RSS_list[i]) for i in range(5)]\n",
    "\n",
    "is_multikol = False\n",
    "for i in range(5):\n",
    "    print(f'При кси{i+1}=f(от остальных кси)    R^2 = {R_2_list[i]}')\n",
    "    if R_2_list[i] >= 0.7:\n",
    "        is_multikol = True\n",
    "        \n",
    "if is_multikol:\n",
    "    print('\\n Ксишки мультиколлениарны')\n",
    "else:\n",
    "    print('\\n Ксишки не являются мультиколлениарными')"
   ]
  },
  {
   "cell_type": "markdown",
   "id": "af90c7d3",
   "metadata": {},
   "source": [
    "# б) Определить уравнение линейной регрессии для этты и проверить значимость коэффициентов"
   ]
  },
  {
   "cell_type": "code",
   "execution_count": 150,
   "id": "6b781da6",
   "metadata": {
    "scrolled": true
   },
   "outputs": [
    {
     "name": "stdout",
     "output_type": "stream",
     "text": [
      "Коэффициенты: \n",
      "\n",
      "b0 = 1.661881335371115\n",
      "b1 = 2.867762438761124\n",
      "b2 = -1.8376730002399868\n",
      "b3 = 1.0343743496873399\n",
      "b4 = 1.0664332857900598\n",
      "b5 = -0.43155038414924046\n"
     ]
    }
   ],
   "source": [
    "ksi = []\n",
    "y = []\n",
    "for i in range(n):\n",
    "    ksi.append([1] + sample[i][:-1])\n",
    "    y.append(sample[i][5])\n",
    "ksi = np.array(ksi)\n",
    "y = np.array(y)\n",
    "koefs = calc_koefs(ksi, y)\n",
    "\n",
    "print('Коэффициенты: \\n')\n",
    "for i in range(len(koefs)):\n",
    "    print(f'b{i} = {koefs[i]}')"
   ]
  },
  {
   "cell_type": "code",
   "execution_count": 151,
   "id": "d3c7df96",
   "metadata": {},
   "outputs": [
    {
     "name": "stdout",
     "output_type": "stream",
     "text": [
      "b0 значим\n",
      "b1 значим\n",
      "b2 значим\n",
      "b3 значим\n",
      "b4 значим\n",
      "b5 НЕ значим\n"
     ]
    }
   ],
   "source": [
    "alpha = 0.05\n",
    "\n",
    "def calc_delta(ksi, koefs, i, rss):\n",
    "    ksi_T = ksi.transpose()\n",
    "    F = np.matmul(ksi_T, ksi)\n",
    "    F_inv = np.linalg.inv(F)\n",
    "    p = ksi.shape[1]\n",
    "    return koefs[i]*math.sqrt(n-p)/math.sqrt(rss*F_inv[i][i])\n",
    "\n",
    "def integrate_student(a, b, N):\n",
    "    def student(x):\n",
    "        return math.gamma((N+1)/2)/(math.sqrt(math.pi*N)*math.gamma(N/2)*(1+x**2/N)**((N+1)/2))\n",
    "    return scipy.integrate.quad(student, a, b)[0]\n",
    "    \n",
    "e = calc_e(ksi, y, koefs)\n",
    "rss = RSS(e)\n",
    "    \n",
    "deltas = [calc_delta(ksi, koefs, i, rss) for i in range(6)]\n",
    "\n",
    "p_values = [2*integrate_student(abs(deltas[i]), math.inf, n) for i in range(len(deltas))]\n",
    "for i in range(6):\n",
    "    if p_values[i] < alpha:\n",
    "        print(f'b{i} значим')\n",
    "    else:\n",
    "        print(f'b{i} НЕ значим')"
   ]
  },
  {
   "cell_type": "markdown",
   "id": "55fb9b62",
   "metadata": {},
   "source": [
    "# c) Определить коэффициент детерминации"
   ]
  },
  {
   "cell_type": "code",
   "execution_count": 152,
   "id": "a3040afb",
   "metadata": {},
   "outputs": [
    {
     "name": "stdout",
     "output_type": "stream",
     "text": [
      "Коэффициент детерминации: R^2 = 0.7159529969544839\n",
      "p-value = 4.943455361829612e-11\n",
      "Коэффициент детерминации значим\n"
     ]
    }
   ],
   "source": [
    "def integrate_fisher(a, b, d1, d2):\n",
    "    def func(x):\n",
    "        return x**(d1/2-1)*(1-x)**(d2/2-1)\n",
    "    Beta = scipy.integrate.quad(func, 0, 1)[0]\n",
    "    def fisher(x):\n",
    "        return pow(d1/d2, d1/2) * pow(x, (d1/2 - 1)) * pow((1 + d1*x/d2), -(d1+d2)/2) / Beta \n",
    "    return scipy.integrate.quad(fisher, a, b)[0]\n",
    "\n",
    "\n",
    "tss = TSS(y)\n",
    "r_2 = R_2(tss, rss)\n",
    "print('Коэффициент детерминации: R^2 =', r_2)\n",
    "\n",
    "p = ksi.shape[1]\n",
    "delta_r_2 = r_2*(n-p)/((1-r_2)*(p-1))\n",
    "\n",
    "p_value_r_2 = integrate_fisher(delta_r_2, math.inf, p-1, n-p)\n",
    "print('p-value =', p_value_r_2)\n",
    "if p_value_r_2 < alpha:\n",
    "    print('Коэффициент детерминации значим')\n",
    "else:\n",
    "    print('Коэффициент детерминации НЕ значим')\n"
   ]
  },
  {
   "cell_type": "markdown",
   "id": "3fd571b2",
   "metadata": {},
   "source": [
    "# d) Найти значение в точке Xk = 0 и построить 95% доверительный интервал"
   ]
  },
  {
   "cell_type": "code",
   "execution_count": 153,
   "id": "f0e0a5ca",
   "metadata": {},
   "outputs": [
    {
     "name": "stdout",
     "output_type": "stream",
     "text": [
      "y = 1.661881335371115\n",
      "Доверительный интервал по параметрическому бутстрапу: [-0.8952884209494645, 4.9299223669707795]\n"
     ]
    }
   ],
   "source": [
    "x_0 = np.array([0]*5)\n",
    "y_0 = np.dot(koefs[1:], x_0) + koefs[0]\n",
    "print('y =', y_0)\n",
    "\n",
    "beta = 0.95\n",
    "ys = []\n",
    "N = 10000\n",
    "for i in range(N):\n",
    "    ys.append(scipy.stats.norm.rvs(loc=2, scale=1.5, size=1)[0])\n",
    "ys.sort()\n",
    "print('Доверительный интервал по параметрическому бутстрапу:', end=' ')\n",
    "print(f'[{ys[int(N*(1-beta)/2)]}, {ys[int(N*(1+beta)/2)]}]')\n"
   ]
  },
  {
   "cell_type": "markdown",
   "id": "ee015948",
   "metadata": {},
   "source": [
    "# e) Проверить предположение о независимости ошибок измерения"
   ]
  },
  {
   "cell_type": "code",
   "execution_count": 154,
   "id": "97fefa3a",
   "metadata": {},
   "outputs": [
    {
     "name": "stdout",
     "output_type": "stream",
     "text": [
      "p-value = 0.014880444769909915\n",
      "Предположение НЕверное\n"
     ]
    }
   ],
   "source": [
    "def integrate_norm(a, b, m, G):\n",
    "    def norm(x):\n",
    "        return pow(math.e, -(x-m)**2/(2*G**2))/(G*math.sqrt(2*math.pi))\n",
    "    return scipy.integrate.quad(norm, a, b)[0]\n",
    "\n",
    "I = 0\n",
    "for i in range(n-1):\n",
    "    for j in range(i+1, n):\n",
    "        if e[i] > e[j]:\n",
    "            I += 1\n",
    "    \n",
    "delta_invers = (I-n*(n-1)/4)/math.sqrt(n**3/36)\n",
    "p_value_invers = 2*integrate_norm(abs(delta_invers), math.inf, 0, 1)\n",
    "print('p-value =', p_value_invers)\n",
    "if p_value_invers < alpha:\n",
    "    print('Предположение НЕверное')\n",
    "else:\n",
    "    print('Нет оснований отвергнуть предположение')\n",
    "        "
   ]
  },
  {
   "cell_type": "markdown",
   "id": "2c2cc3a1",
   "metadata": {},
   "source": [
    "# f) Проверить предположение о нормальности распределения ошибок"
   ]
  },
  {
   "cell_type": "code",
   "execution_count": 155,
   "id": "175a3ec3",
   "metadata": {},
   "outputs": [
    {
     "name": "stdout",
     "output_type": "stream",
     "text": [
      "teta1: 2.6645352591003756e-16 \n",
      "teta2: 1.3527203713926548\n",
      "p-value: 0.2178\n",
      "Не можем отвергнуть предположение\n"
     ]
    }
   ],
   "source": [
    "def Ak_ass(k, sample):\n",
    "    res = 0\n",
    "    for i in range(len(sample)):\n",
    "        res += sample[i]**k\n",
    "    return res/n\n",
    "        \n",
    "def OMM(sample):\n",
    "    t1 = Ak_ass(1, sample)\n",
    "    t2 = math.sqrt(Ak_ass(2, sample) - t1**2)\n",
    "    return [t1, t2]\n",
    "\n",
    "teta1, teta2 = OMM(e) \n",
    "print('teta1:',teta1, '\\nteta2:', teta2)\n",
    "\n",
    "F = [1/n]\n",
    "for i in range(1, n):\n",
    "    F.append(F[-1] + 1/n)\n",
    "    \n",
    "\n",
    "err = [e[i] for i in range(n)]\n",
    "err.sort()\n",
    "\n",
    "x_norm = [err[i] for i in range(n)]\n",
    "y_norm = [integrate_norm(-math.inf, err[0], teta1, teta2)]\n",
    "for i in range(1, n):\n",
    "    y_norm.append(y_norm[-1] + integrate_norm(err[i-1], err[i], teta1, teta2))\n",
    "    \n",
    "delta_kalm = math.sqrt(n)*max([abs(F[i]-y_norm[i]) for i in range(n)]+[abs(F[i-1]-y_norm[i]) for i in range(1,n)])\n",
    "\n",
    "N = 10000\n",
    "\n",
    "deltas = []\n",
    "for i in range(N):\n",
    "    tmp_err = scipy.stats.norm.rvs(loc=teta1, scale=teta2, size=n)\n",
    "    t1, t2 = OMM(tmp_err)\n",
    "    #print(t1, t2)\n",
    "    tmp_err.sort()\n",
    "    tmp_y_norm = [integrate_norm(-math.inf, tmp_err[0], t1, t2)]\n",
    "    for i in range(1, n):\n",
    "        tmp_y_norm.append(tmp_y_norm[-1] + integrate_norm(tmp_err[i-1], tmp_err[i], t1, t2))\n",
    "    a = max([abs(F[i]-tmp_y_norm[i]) for i in range(n)])\n",
    "    b = max([abs(F[i-1]-tmp_y_norm[i]) for i in range(1,n)])\n",
    "    deltas.append(math.sqrt(n)*max(a, b))\n",
    "\n",
    "deltas.sort()\n",
    "\n",
    "for i in range(N-1):\n",
    "    if deltas[i+1] >= delta_kalm > deltas[i]:\n",
    "        print('p-value:', 1-(i-1)/N)\n",
    "        if 1-(i-1)/N > alpha:\n",
    "            print('Не можем отвергнуть предположение')\n",
    "        else:\n",
    "            print('Отвергаем гипотезу')\n",
    "        break"
   ]
  },
  {
   "cell_type": "markdown",
   "id": "e1b7c49c",
   "metadata": {},
   "source": [
    "# g) Исследовать регрессию на выбросы"
   ]
  },
  {
   "cell_type": "code",
   "execution_count": 156,
   "id": "d7f5ada1",
   "metadata": {},
   "outputs": [
    {
     "name": "stdout",
     "output_type": "stream",
     "text": [
      "Выбросы:\n",
      "[-0.06280445587099659, -0.6805754597314742, 0.8265591465473532, 0.2175585503792863, 0.9552378009876286, 1.22720527427437]\n"
     ]
    }
   ],
   "source": [
    "e_abs = [abs(e[i]) for i in range(n)]\n",
    "e_abs.sort()\n",
    "med = e_abs[int(n/2)]\n",
    "sigma = med/0.675\n",
    "emissions = []\n",
    "for i in range(n):\n",
    "    if -2*sigma < e[i] < 2*sigma:\n",
    "        continue\n",
    "    else:\n",
    "        emissions.append(i)\n",
    "if len(emissions) != 0:\n",
    "    print('Выбросы:')\n",
    "    for i in range(len(emissions)):\n",
    "        print(sample[i])\n",
    "else:\n",
    "    print('Выбросов нет')"
   ]
  },
  {
   "cell_type": "markdown",
   "id": "d292ce4d",
   "metadata": {},
   "source": [
    "# h) Провести кросс-проверку регрессии"
   ]
  },
  {
   "cell_type": "code",
   "execution_count": 157,
   "id": "75bdf20a",
   "metadata": {},
   "outputs": [
    {
     "name": "stdout",
     "output_type": "stream",
     "text": [
      "R^2   = 0.7159529969544839\n",
      "Rcv^2 = 0.6285892411140521\n"
     ]
    }
   ],
   "source": [
    "def calc_koefs(ksi, y):\n",
    "    ksi_T = ksi.transpose()\n",
    "    F = np.matmul(ksi_T, ksi)\n",
    "    F_inv = np.linalg.inv(F)\n",
    "    koefs = np.matmul(F_inv, np.matmul(ksi_T, y))\n",
    "    return koefs\n",
    "\n",
    "def cross_validation(sample, X):\n",
    "    ksi = []\n",
    "    y = []\n",
    "    for i in range(n-1):\n",
    "        ksi.append([1] + list(sample[i][:-1]))\n",
    "        y.append(sample[i][5])\n",
    "    ksi = np.array(ksi)\n",
    "    y = np.array(y)\n",
    "    koefs = calc_koefs(ksi, y)\n",
    "    return np.dot(koefs[1:], X) + koefs[0]\n",
    "    \n",
    "    \n",
    "sample = np.array(sample)\n",
    "cv = []\n",
    "for i in range(n):\n",
    "    tmp_y = cross_validation(np.delete(sample, i, 0), sample[i][:-1])\n",
    "    cv.append((sample[i][-1]-tmp_y)**2)\n",
    "cvss = sum(cv)\n",
    "r_2_cv = (tss-cvss)/tss\n",
    "print('R^2   =', r_2)\n",
    "print('Rcv^2 =', r_2_cv)\n",
    "    "
   ]
  },
  {
   "cell_type": "markdown",
   "id": "ed947c7c",
   "metadata": {},
   "source": [
    "# i) Проверить адекватность регрессии, сделав 5 повторных измерений в одной точке"
   ]
  },
  {
   "cell_type": "code",
   "execution_count": 158,
   "id": "7f1ffb74",
   "metadata": {},
   "outputs": [
    {
     "name": "stdout",
     "output_type": "stream",
     "text": [
      "5 значений в точке Xk=0: [0.32244681468234415, 1.2230640007348719, 1.1668273584977322, -1.2259450347982033, -2.0154336820258942]\n",
      "p_value = 0.5916477367093906\n",
      "Не можем отвергнуть адекватность модели\n"
     ]
    }
   ],
   "source": [
    "K = 5\n",
    "y_K = [scipy.stats.norm.rvs(loc=0, scale=1.5, size=1)[0] for i in range(K)]\n",
    "print('5 значений в точке Xk=0:',y_K)\n",
    "\n",
    "sigma_K_2 = 0\n",
    "y_K_average = sum(y_K)/K\n",
    "for i in range(K):\n",
    "    sigma_K_2 += (y_K[i] - y_K_average)**2\n",
    "sigma_K_2 /= (K - 1)\n",
    "\n",
    "if rss <= (K - 1)*sigma_K_2:\n",
    "    print('Модель адекватна')\n",
    "else:\n",
    "    delta = rss/((n-p)*sigma_K_2)\n",
    "    p_value = integrate_fisher(delta, math.inf, n-p, K-1)\n",
    "    print('p_value =', p_value)\n",
    "    if p_value < alpha:\n",
    "        print('Модель не адекватна')\n",
    "    else:\n",
    "        print('Не можем отвергнуть адекватность модели')\n"
   ]
  },
  {
   "cell_type": "markdown",
   "id": "e76763ea",
   "metadata": {},
   "source": [
    "# j) Удалить переменную, соответствующую наименее значимому коэффициенту и повторить пункты b и c, сравнить уравнения регрессии"
   ]
  },
  {
   "cell_type": "code",
   "execution_count": 159,
   "id": "954e0fe9",
   "metadata": {},
   "outputs": [
    {
     "name": "stdout",
     "output_type": "stream",
     "text": [
      "Удалим X5, так как соответствующий ему коэффициент незначим\n"
     ]
    }
   ],
   "source": [
    "print('Удалим X5, так как соответствующий ему коэффициент незначим')"
   ]
  },
  {
   "cell_type": "markdown",
   "id": "051306d9",
   "metadata": {},
   "source": [
    "# j.b)"
   ]
  },
  {
   "cell_type": "code",
   "execution_count": 160,
   "id": "67768b2a",
   "metadata": {},
   "outputs": [
    {
     "name": "stdout",
     "output_type": "stream",
     "text": [
      "Коэффициенты: \n",
      "\n",
      "b0 = 1.6759731565120357\n",
      "b1 = 2.974270009067486\n",
      "b2 = -1.757747080130401\n",
      "b3 = 0.9792058175724779\n",
      "b4 = 0.9608402914251825\n"
     ]
    }
   ],
   "source": [
    "ksi2 = []\n",
    "y2 = []\n",
    "for i in range(n):\n",
    "    ksi2.append([1] + list(sample[i][:-2]))\n",
    "    y2.append(sample[i][5])\n",
    "ksi2 = np.array(ksi2)\n",
    "y2 = np.array(y2)\n",
    "koefs2 = calc_koefs(ksi2, y2)\n",
    "\n",
    "print('Коэффициенты: \\n')\n",
    "for i in range(len(koefs2)):\n",
    "    print(f'b{i} = {koefs2[i]}')"
   ]
  },
  {
   "cell_type": "code",
   "execution_count": 161,
   "id": "3ad6d594",
   "metadata": {},
   "outputs": [
    {
     "name": "stdout",
     "output_type": "stream",
     "text": [
      "b0 значим\n",
      "b1 значим\n",
      "b2 значим\n",
      "b3 значим\n",
      "b4 значим\n"
     ]
    }
   ],
   "source": [
    "e2 = calc_e(ksi2, y2, koefs2)\n",
    "rss2 = RSS(e2)\n",
    "    \n",
    "deltas2 = [calc_delta(ksi2, koefs2, i, rss2) for i in range(5)]\n",
    "\n",
    "p_values2 = [2*integrate_student(abs(deltas2[i]), math.inf, n) for i in range(len(deltas2))]\n",
    "for i in range(5):\n",
    "    if p_values[i] < alpha:\n",
    "        print(f'b{i} значим')\n",
    "    else:\n",
    "        print(f'b{i} НЕ значим')"
   ]
  },
  {
   "cell_type": "markdown",
   "id": "24e9ac52",
   "metadata": {},
   "source": [
    "# j.c)"
   ]
  },
  {
   "cell_type": "code",
   "execution_count": 162,
   "id": "5951fccc",
   "metadata": {},
   "outputs": [
    {
     "name": "stdout",
     "output_type": "stream",
     "text": [
      "Коэффициент детерминации: R^2 = 0.7159529969544839\n",
      "p-value = 8.600087976801329e-12\n",
      "Коэффициент детерминации значим\n"
     ]
    }
   ],
   "source": [
    "tss2 = TSS(y)\n",
    "r_22 = R_2(tss, rss)\n",
    "print('Коэффициент детерминации: R^2 =', r_22)\n",
    "\n",
    "p2 = ksi2.shape[1]\n",
    "delta_r_22 = r_2*(n-p2)/((1-r_22)*(p2-1))\n",
    "\n",
    "p_value_r_22 = integrate_fisher(delta_r_22, math.inf, p2-1, n-p2)\n",
    "print('p-value =', p_value_r_22)\n",
    "if p_value_r_22 < alpha:\n",
    "    print('Коэффициент детерминации значим')\n",
    "else:\n",
    "    print('Коэффициент детерминации НЕ значим')"
   ]
  },
  {
   "cell_type": "markdown",
   "id": "6a62d06c",
   "metadata": {},
   "source": [
    "# Сравнение уравнений регрессии"
   ]
  },
  {
   "cell_type": "code",
   "execution_count": 212,
   "id": "c5f26c4e",
   "metadata": {},
   "outputs": [
    {
     "name": "stdout",
     "output_type": "stream",
     "text": [
      "p-value = 0.22131155875140704\n",
      "Не можем отвергнуть новое уравнение регрессии\n"
     ]
    }
   ],
   "source": [
    "delta_comp = (rss2-rss)*(n-p)/(rss*(p-p2))\n",
    "\n",
    "p_value_comp = integrate_fisher(delta_comp, math.inf, p-p2, n-p2)\n",
    "print('p-value =', p_value_comp)\n",
    "if p_value_comp < alpha:\n",
    "    print('Отвергаем новое уравнение регрессии')\n",
    "else:\n",
    "    print('Не можем отвергнуть новое уравнение регрессии')\n"
   ]
  },
  {
   "cell_type": "markdown",
   "id": "5575f881",
   "metadata": {},
   "source": [
    "# k) Сравнить уравнения регрессии бутстрапом"
   ]
  },
  {
   "cell_type": "code",
   "execution_count": 211,
   "id": "b7c2b72c",
   "metadata": {},
   "outputs": [
    {
     "name": "stdout",
     "output_type": "stream",
     "text": [
      "p-value: 0.21299999999999997\n",
      "Не можем отвергнуть новое уравнение регрессии\n"
     ]
    }
   ],
   "source": [
    "\n",
    "import random\n",
    "\n",
    "N = 1000\n",
    "sample_T = sample.transpose()\n",
    "deltas_comp = []\n",
    "for u in range(N):\n",
    "    tmp_sample = []\n",
    "    for l in range(6):\n",
    "        line = [random.choice(sample_T[l]) for j in range(n)]\n",
    "        tmp_sample.append(line)\n",
    "    tmp_sample = np.array(tmp_sample).transpose()\n",
    "        \n",
    "    \n",
    "    tmp_ksi = []\n",
    "    tmp_y = []\n",
    "    for i in range(n):\n",
    "        tmp_ksi.append([1] + list(tmp_sample[i][:-1]))\n",
    "        tmp_y.append(tmp_sample[i][5])\n",
    "    tmp_ksi = np.array(tmp_ksi)\n",
    "    tmp_y = np.array(tmp_y)\n",
    "    tmp_koefs = calc_koefs(tmp_ksi, tmp_y)\n",
    "    tmp_e = calc_e(tmp_ksi, tmp_y, tmp_koefs)\n",
    "    tmp_rss = RSS(tmp_e)\n",
    "    \n",
    "    tmp_ksi2 = []\n",
    "    tmp_y2 = []\n",
    "    for i in range(n):\n",
    "        tmp_ksi2.append([1] + list(tmp_sample[i][:-2]))\n",
    "        tmp_y2.append(tmp_sample[i][5])\n",
    "    tmp_ksi2 = np.array(tmp_ksi2)\n",
    "    tmp_y2 = np.array(tmp_y2)\n",
    "    tmp_koefs2 = calc_koefs(tmp_ksi2, tmp_y2)\n",
    "    tmp_e2 = calc_e(tmp_ksi2, tmp_y2, tmp_koefs2)\n",
    "    tmp_rss2 = RSS(tmp_e2)\n",
    "    \n",
    "    deltas_comp.append((tmp_rss2-tmp_rss)*(n-p)/(tmp_rss*(p-p2)))\n",
    "\n",
    "deltas_comp.sort()\n",
    "\n",
    "\n",
    "for i in range(N-1):\n",
    "    if deltas_comp[i+1] >= delta_comp > deltas_comp[i]:\n",
    "        print('p-value:', 1-(i-1)/N)\n",
    "        if 1-(i-1)/N < alpha:\n",
    "            print('Отвергаем новое уравнение регрессии')\n",
    "        else:\n",
    "            print('Не можем отвергнуть новое уравнение регрессии')\n",
    "    \n",
    "    \n"
   ]
  },
  {
   "cell_type": "code",
   "execution_count": null,
   "id": "ec7e361f",
   "metadata": {},
   "outputs": [],
   "source": []
  }
 ],
 "metadata": {
  "kernelspec": {
   "display_name": "Python 3",
   "language": "python",
   "name": "python3"
  },
  "language_info": {
   "codemirror_mode": {
    "name": "ipython",
    "version": 3
   },
   "file_extension": ".py",
   "mimetype": "text/x-python",
   "name": "python",
   "nbconvert_exporter": "python",
   "pygments_lexer": "ipython3",
   "version": "3.8.8"
  }
 },
 "nbformat": 4,
 "nbformat_minor": 5
}
